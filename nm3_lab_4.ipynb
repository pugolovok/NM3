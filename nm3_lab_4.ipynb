{
  "nbformat": 4,
  "nbformat_minor": 0,
  "metadata": {
    "colab": {
      "provenance": []
    },
    "kernelspec": {
      "name": "python3",
      "display_name": "Python 3"
    },
    "language_info": {
      "name": "python"
    }
  },
  "cells": [
    {
      "cell_type": "code",
      "execution_count": 1,
      "metadata": {
        "id": "cF2c_sMHRP0b"
      },
      "outputs": [],
      "source": [
        "import numpy as np"
      ]
    },
    {
      "cell_type": "code",
      "source": [
        "t = [20, 21, 22, 23, 24, 25]\n",
        "d = [0.99823, 0.998019, 0.997797, 0.997565, 0.997323, 0.997071]\n",
        "n = len(t)"
      ],
      "metadata": {
        "id": "Y8_vElWZRcjt"
      },
      "execution_count": 2,
      "outputs": []
    },
    {
      "cell_type": "code",
      "source": [
        "\"\"\"\n",
        "Интерполяция методом Лагранжа\n",
        "\"\"\"\n",
        "def lagrange(n, t, d, *x):\n",
        "    for k in range(len(x)):\n",
        "        result = 0\n",
        "        for i in range(n - 1):\n",
        "            tmp = 1\n",
        "            for j in range(n - 1):\n",
        "                if i != j:\n",
        "                    tmp *= (x[k] - t[j]) / (t[i] - t[j])\n",
        "            tmp *= d[i]\n",
        "            result += tmp\n",
        "        print(\"t =\", x[k], \" --->  D =\" ,result)\n",
        "\n",
        "lagrange(n,t,d, 21.5, 22.7, 24.3)"
      ],
      "metadata": {
        "colab": {
          "base_uri": "https://localhost:8080/"
        },
        "id": "kOx8u94pRuuU",
        "outputId": "866da00c-a418-44a4-c652-7ccf06b1c447"
      },
      "execution_count": 3,
      "outputs": [
        {
          "output_type": "stream",
          "name": "stdout",
          "text": [
            "t = 21.5  --->  D = 0.9979092890625\n",
            "t = 22.7  --->  D = 0.9976356306625\n",
            "t = 24.3  --->  D = 0.9972483266625001\n"
          ]
        }
      ]
    },
    {
      "cell_type": "code",
      "source": [
        "\"\"\"\n",
        "Интерполяция методом Ньютона\n",
        "\"\"\"\n",
        "def dd(x1, x2):\n",
        "    return (d[x2] - d[x1]) / (x2 - x1)\n",
        "\n",
        "f_x0x1x2 = (dd(1,2) - dd(0,1)) / (t[2] - t[0])\n",
        "f_x1x2x3 = (dd(2,3) - dd(1,2)) / (t[3] - t[1])\n",
        "f_x2x3x4 = (dd(3,4) - dd(2,3)) / (t[4] - t[2])\n",
        "f_x3x4x5 = (dd(4,5) - dd(3,4)) / (t[5] - t[3])\n",
        "\n",
        "f_x0x1x2x3 = (f_x1x2x3 - f_x0x1x2) / (t[3] - t[0])\n",
        "f_x1x2x3x4 = (f_x2x3x4 - f_x1x2x3) / (t[4] - t[1])\n",
        "f_x2x3x4x5 = (f_x3x4x5 - f_x2x3x4) / (t[5] - t[2])\n",
        "\n",
        "f_x0x1x2x3x4 = (f_x1x2x3x4 - f_x0x1x2x3) / (t[4] - t[0])\n",
        "f_x1x2x3x4x5 = (f_x2x3x4x5 - f_x1x2x3x4) / (t[5] - t[1])\n",
        "\n",
        "def newton(x):\n",
        "    newton_x = d[0] + dd(0,1) * (x - t[0]) + \\\n",
        "               f_x0x1x2 * (x - t[0]) * (x - t[1]) + \\\n",
        "               f_x0x1x2x3 * (x - t[0]) * (x - t[1]) * (x - t[2]) + \\\n",
        "               f_x0x1x2x3x4 * (x - t[0]) * (x - t[1]) * (x - t[2]) * (x - t[3]) + \\\n",
        "               ((f_x1x2x3x4x5 - f_x0x1x2x3x4) / (t[5] - t[0])) * (x - t[0]) * \\\n",
        "                (x - t[1]) * (x - t[2]) * (x - t[3]) * (x - t[4])\n",
        "    return newton_x\n",
        "\n",
        "x = [21.5, 22.7, 24.3]\n",
        "\n",
        "for x0 in x:\n",
        "    print('t =', x0, '---> D = ', newton(x0))"
      ],
      "metadata": {
        "colab": {
          "base_uri": "https://localhost:8080/"
        },
        "id": "MSs7LwXnSD-v",
        "outputId": "8a293719-d0b8-4fbb-a675-74edf81e0cea"
      },
      "execution_count": 4,
      "outputs": [
        {
          "output_type": "stream",
          "name": "stdout",
          "text": [
            "t = 21.5 ---> D =  0.99790927734375\n",
            "t = 22.7 ---> D =  0.99763564110475\n",
            "t = 24.3 ---> D =  0.99724843273275\n"
          ]
        }
      ]
    },
    {
      "cell_type": "code",
      "source": [
        "\"\"\"\n",
        "Интерполяция кубическим сплайном\n",
        "\"\"\"\n",
        "def decLU3(a, b, c):\n",
        "    n = len(a)\n",
        "    d = np.copy(a)\n",
        "    u = np.copy(b)\n",
        "    l = np.copy(c)\n",
        "    for i in range(1, n):\n",
        "        al = l[i] / d[i - 1]\n",
        "        d[i] = d[i] - al*u[i - 1]\n",
        "        l[i] = al\n",
        "    return d, u, l\n",
        "\n",
        "def solveLU3(a, b, c, f):\n",
        "    n = len(a)\n",
        "    d, u, l = decLU3(a, b, c)\n",
        "    x = np.copy(f)\n",
        "    for i in range(1, n):\n",
        "        x[i] = x[i] - l[i] * x[i-1]\n",
        "    x[n-1] = x[n-1] / d[n-1]\n",
        "    for i in range(n-2, -1, -1):\n",
        "        x[i] = (x[i] - u[i]*x[i+1]) / d[i]\n",
        "    return x\n",
        "\n",
        "def coefspline(x, y):\n",
        "    n = len(x) - 1\n",
        "    a = np.ones((n+1), 'float')\n",
        "    b = np.zeros((n+1), 'float')\n",
        "    c = np.zeros((n+1), 'float')\n",
        "    f = np.zeros((n+1), 'float')\n",
        "    for i in range(1, n):\n",
        "        a[i] = 2.*(x[i+1] - x[i-1])\n",
        "        b[i] = x[i+1] - x[i]\n",
        "        c[i] = x[i] - x[i - 1]\n",
        "        f[i] = 6.*(y[i+1] - y[i]) / (x[i+1] - x[i]) \\\n",
        "              - 6. * (y[i] - y[i-1]) / (x[i] - x[i - 1])\n",
        "    return solveLU3(a, b, c, f)\n",
        "\n",
        "def spline(x, y, c, x0):\n",
        "    def find(x, x0):\n",
        "        iL = 0\n",
        "        iR = len(x) - 1\n",
        "        while iR - iL > 1:\n",
        "            i = int((iL + iR) / 2)\n",
        "            if x0 < x[i]:\n",
        "                iR = i\n",
        "            else:\n",
        "                iL = i\n",
        "        return iL\n",
        "    i = find(x, x0)\n",
        "    h = x[i+1] - x[i]\n",
        "    y0 = ((x[i+1] - x0)**3/h - (x[i+1] - x[0])*h)*c[i]/6. \\\n",
        "       + ((x[0] - x[i])**3 / h - (x0 - x[i])*h) * c[i+1] /6. \\\n",
        "       + (y[i]*(x[i+1] - x0) + y[i+1]*(x0 - x[i]))\n",
        "    return y0\n",
        "\n",
        "x = np.array(t)\n",
        "y = np.array(d)\n",
        "x1 = np.array([21.5, 22.7, 24.3])\n",
        "c = coefspline(x, y)\n",
        "for i in x1:\n",
        "    print(\"t =\", i, \" --->  D =\" ,spline(x, y, c, i))"
      ],
      "metadata": {
        "colab": {
          "base_uri": "https://localhost:8080/"
        },
        "id": "p0ucH1SlSSfd",
        "outputId": "93055d71-720a-4bf3-a68e-7abae98bd5bc"
      },
      "execution_count": 5,
      "outputs": [
        {
          "output_type": "stream",
          "name": "stdout",
          "text": [
            "t = 21.5  --->  D = 0.9979147105263159\n",
            "t = 22.7  --->  D = 0.9976529841866032\n",
            "t = 24.3  --->  D = 0.9972571819282294\n"
          ]
        }
      ]
    }
  ]
}